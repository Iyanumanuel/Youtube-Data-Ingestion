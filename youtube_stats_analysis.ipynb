{
 "cells": [
  {
   "cell_type": "code",
   "execution_count": 34,
   "metadata": {},
   "outputs": [],
   "source": [
    "import json\n",
    "import pandas as pd\n",
    "import matplotlib.pyplot as plt\n",
    "import matplotlib_inline"
   ]
  },
  {
   "cell_type": "code",
   "execution_count": 4,
   "metadata": {},
   "outputs": [
    {
     "name": "stdout",
     "output_type": "stream",
     "text": [
      "UCV2xi_w10k6ewdPVxDP6uCQ\n"
     ]
    }
   ],
   "source": [
    "file = 'HofChurchNG.json'\n",
    "data = None\n",
    "with open(file, 'r') as f:\n",
    "    data = json.load(f)\n",
    "\n",
    "channel_id, stats = data.popitem()\n",
    "print(channel_id)\n",
    "channel_stats = stats['channel_statistics']\n",
    "video_stats = stats['video_data']"
   ]
  },
  {
   "cell_type": "code",
   "execution_count": 6,
   "metadata": {},
   "outputs": [
    {
     "name": "stdout",
     "output_type": "stream",
     "text": [
      "views 109143\n",
      "subscribers 2680\n",
      "videos 303\n"
     ]
    }
   ],
   "source": [
    "# Channel statistics information\n",
    "print('views', channel_stats['viewCount'])\n",
    "print('subscribers', channel_stats['subscriberCount'])\n",
    "print('videos', channel_stats['videoCount'])"
   ]
  },
  {
   "cell_type": "code",
   "execution_count": 49,
   "metadata": {},
   "outputs": [],
   "source": [
    "# Video statistics\n",
    "sorted_videos = sorted(video_stats.items(), key=lambda item: int(item[1]['viewCount']), reverse=True)\n",
    "stats = []\n",
    "for video in sorted_videos:\n",
    "    video_id = video[0]\n",
    "    title = video[1][\"title\"]\n",
    "    views = int(video[1][\"viewCount\"])\n",
    "    likes = int(video[1][\"likeCount\"])\n",
    "    # dislikes = video[1][\"dislikeCount\"]\n",
    "    comments = int(video[1][\"commentCount\"])\n",
    "    datepublished = video[1]['publishedAt']\n",
    "    stats.append([datepublished, title,views, likes, comments])\n",
    "\n",
    "\n"
   ]
  },
  {
   "cell_type": "code",
   "execution_count": 50,
   "metadata": {},
   "outputs": [
    {
     "data": {
      "text/html": [
       "<div>\n",
       "<style scoped>\n",
       "    .dataframe tbody tr th:only-of-type {\n",
       "        vertical-align: middle;\n",
       "    }\n",
       "\n",
       "    .dataframe tbody tr th {\n",
       "        vertical-align: top;\n",
       "    }\n",
       "\n",
       "    .dataframe thead th {\n",
       "        text-align: right;\n",
       "    }\n",
       "</style>\n",
       "<table border=\"1\" class=\"dataframe\">\n",
       "  <thead>\n",
       "    <tr style=\"text-align: right;\">\n",
       "      <th></th>\n",
       "      <th>datepublished</th>\n",
       "      <th>title</th>\n",
       "      <th>views</th>\n",
       "      <th>likes</th>\n",
       "      <th>comments</th>\n",
       "    </tr>\n",
       "  </thead>\n",
       "  <tbody>\n",
       "    <tr>\n",
       "      <th>0</th>\n",
       "      <td>2021-11-09T17:49:50Z</td>\n",
       "      <td>40 DAYS OF TRANSFORMATION || DAY 40 || 4TH WATCH</td>\n",
       "      <td>1861</td>\n",
       "      <td>48</td>\n",
       "      <td>0</td>\n",
       "    </tr>\n",
       "    <tr>\n",
       "      <th>1</th>\n",
       "      <td>2021-12-22T18:15:09Z</td>\n",
       "      <td>ICONIC: Celebrating life and decades of Kingdo...</td>\n",
       "      <td>1241</td>\n",
       "      <td>140</td>\n",
       "      <td>12</td>\n",
       "    </tr>\n",
       "    <tr>\n",
       "      <th>2</th>\n",
       "      <td>2022-03-30T19:31:29Z</td>\n",
       "      <td>END OF THE MONTH FASTING AND PRAYER || DAY ONE...</td>\n",
       "      <td>1181</td>\n",
       "      <td>45</td>\n",
       "      <td>1</td>\n",
       "    </tr>\n",
       "    <tr>\n",
       "      <th>3</th>\n",
       "      <td>2021-12-31T23:55:24Z</td>\n",
       "      <td>NEW BEGINNING || CROSSOVER SERVICE || 31ST DEC...</td>\n",
       "      <td>1132</td>\n",
       "      <td>43</td>\n",
       "      <td>0</td>\n",
       "    </tr>\n",
       "    <tr>\n",
       "      <th>4</th>\n",
       "      <td>2021-12-04T12:36:39Z</td>\n",
       "      <td>DAY THREE | MORNING SESSION | HOF CAMP MEETING...</td>\n",
       "      <td>1125</td>\n",
       "      <td>35</td>\n",
       "      <td>1</td>\n",
       "    </tr>\n",
       "  </tbody>\n",
       "</table>\n",
       "</div>"
      ],
      "text/plain": [
       "          datepublished                                              title  \\\n",
       "0  2021-11-09T17:49:50Z   40 DAYS OF TRANSFORMATION || DAY 40 || 4TH WATCH   \n",
       "1  2021-12-22T18:15:09Z  ICONIC: Celebrating life and decades of Kingdo...   \n",
       "2  2022-03-30T19:31:29Z  END OF THE MONTH FASTING AND PRAYER || DAY ONE...   \n",
       "3  2021-12-31T23:55:24Z  NEW BEGINNING || CROSSOVER SERVICE || 31ST DEC...   \n",
       "4  2021-12-04T12:36:39Z  DAY THREE | MORNING SESSION | HOF CAMP MEETING...   \n",
       "\n",
       "   views  likes  comments  \n",
       "0   1861     48         0  \n",
       "1   1241    140        12  \n",
       "2   1181     45         1  \n",
       "3   1132     43         0  \n",
       "4   1125     35         1  "
      ]
     },
     "execution_count": 50,
     "metadata": {},
     "output_type": "execute_result"
    }
   ],
   "source": [
    "df = pd.DataFrame(stats, columns=['datepublished','title', 'views', 'likes', 'comments'])\n",
    "df.head()"
   ]
  },
  {
   "cell_type": "code",
   "execution_count": 53,
   "metadata": {},
   "outputs": [
    {
     "data": {
      "image/png": "[encoded data removed]",
      "text/plain": [
       "<Figure size 864x576 with 1 Axes>"
      ]
     },
     "metadata": {
      "needs_background": "light"
     },
     "output_type": "display_data"
    }
   ],
   "source": [
    "top10views = df.head(10)\n",
    "ax = top10views.plot.bar(x='datepublished', y='views', figsize=(12,8), fontsize=8)"
   ]
  },
  {
   "cell_type": "code",
   "execution_count": 56,
   "metadata": {},
   "outputs": [
    {
     "data": {
      "image/png": "[encoded data removed]",
      "text/plain": [
       "<Figure size 864x576 with 1 Axes>"
      ]
     },
     "metadata": {
      "needs_background": "light"
     },
     "output_type": "display_data"
    }
   ],
   "source": [
    "bottom10views = df.tail(10)\n",
    "ax = top10views.plot.bar(x='datepublished', y='views', figsize=(12,8), fontsize=8)"
   ]
  },
  {
   "cell_type": "code",
   "execution_count": null,
   "metadata": {},
   "outputs": [],
   "source": []
  }
 ],
 "metadata": {
  "interpreter": {
   "hash": "edd81760e92202b2ad6c63b9cfc3872494c43a9b7ac16295252c03cc1b9bff5b"
  },
  "kernelspec": {
   "display_name": "Python 3.9.10 64-bit (windows store)",
   "language": "python",
   "name": "python3"
  },
  "language_info": {
   "codemirror_mode": {
    "name": "ipython",
    "version": 3
   },
   "file_extension": ".py",
   "mimetype": "text/x-python",
   "name": "python",
   "nbconvert_exporter": "python",
   "pygments_lexer": "ipython3",
   "version": "3.8.10"
  },
  "orig_nbformat": 4
 },
 "nbformat": 4,
 "nbformat_minor": 2
}
